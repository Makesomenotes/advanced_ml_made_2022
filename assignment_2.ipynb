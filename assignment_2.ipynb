{
 "cells": [
  {
   "cell_type": "code",
   "execution_count": null,
   "id": "06f4ab46",
   "metadata": {},
   "outputs": [],
   "source": [
    "import pandas as pd\n",
    "import numpy as np\n",
    "import pickle\n",
    "\n",
    "from scipy import stats\n",
    "from sklearn.linear_model import LogisticRegression\n",
    "from sklearn.preprocessing import OneHotEncoder"
   ]
  },
  {
   "cell_type": "code",
   "execution_count": 3,
   "id": "9471f0c2",
   "metadata": {},
   "outputs": [],
   "source": [
    "from assignment_hw2_module import calc_correlation\n",
    "from assignment_hw2_module import create_player_question_table\n",
    "from assignment_hw2_module import create_player_question_table_for_validation"
   ]
  },
  {
   "cell_type": "code",
   "execution_count": 4,
   "id": "b4a3d992",
   "metadata": {},
   "outputs": [],
   "source": [
    "players_file = open(r'data/players.pkl', 'rb')\n",
    "players = pickle.load(players_file)"
   ]
  },
  {
   "cell_type": "code",
   "execution_count": 5,
   "id": "dab14c68",
   "metadata": {},
   "outputs": [],
   "source": [
    "results_file = open(r'data/results.pkl', 'rb')\n",
    "results = pickle.load(results_file)"
   ]
  },
  {
   "cell_type": "code",
   "execution_count": 6,
   "id": "688a497c",
   "metadata": {},
   "outputs": [],
   "source": [
    "tournaments_file = open(r'data/tournaments.pkl', 'rb')\n",
    "tournaments = pickle.load(tournaments_file)"
   ]
  },
  {
   "cell_type": "code",
   "execution_count": 7,
   "id": "bf2e7053",
   "metadata": {
    "scrolled": true
   },
   "outputs": [
    {
     "data": {
      "text/plain": [
       "(5528, 5528, 204063)"
      ]
     },
     "execution_count": 7,
     "metadata": {},
     "output_type": "execute_result"
    }
   ],
   "source": [
    "len(tournaments), len(results), len(players)"
   ]
  },
  {
   "cell_type": "markdown",
   "id": "d7916c45",
   "metadata": {},
   "source": [
    "1. Разбиваем на трейн и тест. Также оставляем только турниры следующих типов: 'Обычный', 'Синхрон', 'Строго синхронный'. Они входят по правилам в определение рейтинга, покрывают большую часть турниров и с ними меньше проблем при процессинге. Например, турниры \"Общий зачет\" могут иметь повторяющиеся вопросы и имея один и тот же норм менять длину маски ответов."
   ]
  },
  {
   "cell_type": "code",
   "execution_count": 8,
   "id": "598b0eaa",
   "metadata": {},
   "outputs": [],
   "source": [
    "tournament_type_to_keep = ['Обычный', 'Синхрон', 'Строго синхронный']"
   ]
  },
  {
   "cell_type": "code",
   "execution_count": 9,
   "id": "27396de8",
   "metadata": {},
   "outputs": [
    {
     "data": {
      "text/plain": [
       "0.9129884225759769"
      ]
     },
     "execution_count": 9,
     "metadata": {},
     "output_type": "execute_result"
    }
   ],
   "source": [
    "tournament_type = set()\n",
    "\n",
    "cnt = 0\n",
    "for key, elem in tournaments.items():\n",
    "    try:\n",
    "        t = elem['type']['name']\n",
    "        tournament_type.add(t)\n",
    "        if t in tournament_type_to_keep:\n",
    "            cnt += 1\n",
    "    except KeyError:\n",
    "        continue\n",
    "cnt / len(tournaments)  # доля от всех турниров"
   ]
  },
  {
   "cell_type": "code",
   "execution_count": 10,
   "id": "16d1f7b3",
   "metadata": {},
   "outputs": [],
   "source": [
    "train_ids = [elem['id'] for key, elem in tournaments.items() if elem['dateStart'][:4] == '2019' \\\n",
    "             and elem['type']['name'] in tournament_type_to_keep]\n",
    "test_ids = [elem['id'] for key, elem in tournaments.items() if elem['dateStart'][:4] == '2020'\n",
    "             and elem['type']['name'] in tournament_type_to_keep]"
   ]
  },
  {
   "cell_type": "markdown",
   "id": "781ca0ea",
   "metadata": {},
   "source": [
    "Получили маску из турниров в 2019 и 2020 годах. Теперь из results достанем списки команд, участников и маски ответов. Глобальная цель: составить пары игрок-вопрос, а также  правильно ли сделан ответ. Используя one-hot-encoding для игроков и для вопросов, получим матрицу признаков, вектор с фактом правильности ответа используем в качестве таргета. На данном этапе будем считать, что правильный ответ команды соответствует правильности ответа данного каждым игроком. \n",
    "К этим данным можно применить логистическую регрессию.\n"
   ]
  },
  {
   "cell_type": "code",
   "execution_count": 11,
   "id": "ba8dc7cd",
   "metadata": {},
   "outputs": [],
   "source": [
    "teams_dct = {}\n",
    "train_dct = {}\n",
    "test_dct = {}\n",
    "\n",
    "for i, ids in enumerate(train_ids):\n",
    "    tournaments_dct = {}\n",
    "    for team in results[ids]:\n",
    "        cur_mask = team.get('mask')\n",
    "        if cur_mask is None or not team['teamMembers']:  # нет членов команды или записи ответов\n",
    "            continue\n",
    "        cur_mask = cur_mask.replace('?', '0')  # для простоты, заменим на 0 все неопределенности типа X и ?\n",
    "        cur_mask = cur_mask.replace('X', '0')\n",
    "        cur_mask = [int(ans) for ans in cur_mask]\n",
    "        team_id = team['team']['id']\n",
    "        members = [member['player']['id'] for member in team['teamMembers']]\n",
    "        tournaments_dct[team_id] = {}\n",
    "        tournaments_dct[team_id]['team_id'] = team_id\n",
    "        tournaments_dct[team_id]['mask'] = cur_mask\n",
    "        tournaments_dct[team_id]['players'] = members\n",
    "    if len(set(list(map(len, [team['mask'] for team in tournaments_dct.values()])))) == 1:  \n",
    "        train_dct[ids] = tournaments_dct\n",
    "        \n",
    "for i, ids in enumerate(test_ids):\n",
    "    tournaments_dct = {}\n",
    "    for team in results[ids]:\n",
    "        cur_mask = team.get('mask')\n",
    "        if cur_mask is None or not team['teamMembers']:  # нет членов команды или записи ответов\n",
    "            continue\n",
    "        cur_mask = cur_mask.replace('?', '0')  # для простоты, заменим на 0 все неопределенности типа X и ?\n",
    "        cur_mask = cur_mask.replace('X', '0')\n",
    "        cur_mask = [int(ans) for ans in cur_mask]\n",
    "        team_id = team['team']['id']\n",
    "        members = [member['player']['id'] for member in team['teamMembers']]\n",
    "        tournaments_dct[team_id] = {}\n",
    "        tournaments_dct[team_id]['team_id'] = team_id\n",
    "        tournaments_dct[team_id]['mask'] = cur_mask\n",
    "        tournaments_dct[team_id]['players'] = members\n",
    "    if len(set(list(map(len, [team['mask'] for team in tournaments_dct.values()])))) == 1:  \n",
    "        test_dct[ids] = tournaments_dct\n",
    "    \n",
    "        "
   ]
  },
  {
   "cell_type": "code",
   "execution_count": 12,
   "id": "21152e8b",
   "metadata": {
    "scrolled": true
   },
   "outputs": [
    {
     "data": {
      "text/plain": [
       "dict_keys([4957, 5414, 5719, 5730, 5731, 5732, 5746, 5753, 5754, 5787, 5793, 5798, 5799, 5804, 5806, 5809, 5810, 5823, 5846, 5848, 5849, 5856, 5889, 5891, 5923, 5925, 5962, 5968, 5970, 5973, 6002, 6004, 6016, 6019, 6020, 6041, 6042, 6045, 6046, 6059, 6064, 6067, 6070, 6073, 6075, 6076, 6083, 6093, 6095, 6096, 6108, 6109, 6111, 6121, 6124, 6132, 6133, 6134, 6139, 6142, 6160, 6162, 6163, 6165, 6166, 6171, 6176, 6177, 6180, 6181, 6182, 6184, 6185, 6186, 6187, 6188, 6190, 6193, 6196, 6197, 6199, 6200, 6201, 6202, 6204, 6205, 6207, 6208, 6211, 6212, 6213, 6215, 6216, 6217, 6218, 6220, 6221, 6222, 6223, 6225, 6227, 6228, 6229, 6230, 6233, 6234, 6237, 6239, 6244, 6245, 6246, 6247, 6250, 6256, 6257, 6259, 6261, 6262, 6263, 6269, 6270, 6271, 6272, 6277, 6284, 6285, 6289, 6292, 6293, 6295, 6296, 6298, 6301, 6313, 6314, 6317, 6320, 6323, 6325, 6330, 6331, 6339, 6340, 6342, 6405, 6409, 6410, 6428, 6437, 6438, 6456])"
      ]
     },
     "execution_count": 12,
     "metadata": {},
     "output_type": "execute_result"
    }
   ],
   "source": [
    "test_dct.keys()"
   ]
  },
  {
   "cell_type": "code",
   "execution_count": 13,
   "id": "45147c97",
   "metadata": {},
   "outputs": [],
   "source": [
    "train = create_player_question_table(train_dct)  # здесь dataframe собираем с парами"
   ]
  },
  {
   "cell_type": "code",
   "execution_count": 14,
   "id": "0d44356a",
   "metadata": {},
   "outputs": [],
   "source": [
    "# оставим в тесте только тех, кто в треине был\n",
    "test_base = create_player_question_table(test_dct) \n",
    "test_base = test_base[test_base['player_id'].isin(set(train['player_id']))] "
   ]
  },
  {
   "cell_type": "code",
   "execution_count": 15,
   "id": "8aa14997",
   "metadata": {},
   "outputs": [],
   "source": [
    "encoder = OneHotEncoder(handle_unknown='ignore')\n",
    "X_train = encoder.fit_transform(train[['player_id', 'question_id']])\n",
    "y_train = train['answer']"
   ]
  },
  {
   "cell_type": "code",
   "execution_count": 16,
   "id": "fd63dbf7",
   "metadata": {},
   "outputs": [
    {
     "data": {
      "text/plain": [
       "((14583666, 73350), (14583666,))"
      ]
     },
     "execution_count": 16,
     "metadata": {},
     "output_type": "execute_result"
    }
   ],
   "source": [
    "X_train.shape, y_train.shape"
   ]
  },
  {
   "cell_type": "code",
   "execution_count": 17,
   "id": "d3410eb9",
   "metadata": {},
   "outputs": [
    {
     "name": "stderr",
     "output_type": "stream",
     "text": [
      "/opt/homebrew/lib/python3.9/site-packages/sklearn/linear_model/_logistic.py:814: ConvergenceWarning: lbfgs failed to converge (status=1):\n",
      "STOP: TOTAL NO. of ITERATIONS REACHED LIMIT.\n",
      "\n",
      "Increase the number of iterations (max_iter) or scale the data as shown in:\n",
      "    https://scikit-learn.org/stable/modules/preprocessing.html\n",
      "Please also refer to the documentation for alternative solver options:\n",
      "    https://scikit-learn.org/stable/modules/linear_model.html#logistic-regression\n",
      "  n_iter_i = _check_optimize_result(\n"
     ]
    },
    {
     "data": {
      "text/plain": [
       "LogisticRegression(C=1, max_iter=500, n_jobs=-1, random_state=42)"
      ]
     },
     "execution_count": 17,
     "metadata": {},
     "output_type": "execute_result"
    }
   ],
   "source": [
    "model_base = LogisticRegression(C=1, random_state=42, max_iter=500, n_jobs=-1)\n",
    "\n",
    "model_base.fit(X_train, y_train)"
   ]
  },
  {
   "cell_type": "code",
   "execution_count": 18,
   "id": "e607e50d",
   "metadata": {},
   "outputs": [],
   "source": [
    "X_test = encoder.transform(test_base[['player_id', 'question_id']])\n",
    "y_test = test_base['answer']"
   ]
  },
  {
   "cell_type": "code",
   "execution_count": 19,
   "id": "c585282a",
   "metadata": {},
   "outputs": [
    {
     "data": {
      "text/plain": [
       "((3217971, 73350), (3217971,))"
      ]
     },
     "execution_count": 19,
     "metadata": {},
     "output_type": "execute_result"
    }
   ],
   "source": [
    "X_test.shape, y_test.shape"
   ]
  },
  {
   "cell_type": "code",
   "execution_count": 20,
   "id": "ed558524",
   "metadata": {
    "scrolled": true
   },
   "outputs": [
    {
     "data": {
      "text/plain": [
       "0.5427034612804155"
      ]
     },
     "execution_count": 20,
     "metadata": {},
     "output_type": "execute_result"
    }
   ],
   "source": [
    "model_base.score(X_test, y_test)"
   ]
  },
  {
   "cell_type": "markdown",
   "id": "41505cfd",
   "metadata": {},
   "source": [
    "Для валидации посмотрим вероятность того, что хотя бы один член команды сможет ответить на вопрос. В тест добавим еще общее количество правильных ответов у команды"
   ]
  },
  {
   "cell_type": "code",
   "execution_count": 30,
   "id": "e2e06834",
   "metadata": {},
   "outputs": [
    {
     "name": "stdout",
     "output_type": "stream",
     "text": [
      "The autoreload extension is already loaded. To reload it, use:\n",
      "  %reload_ext autoreload\n"
     ]
    }
   ],
   "source": [
    "%load_ext autoreload  # нужно для обновления изменений в модуле.\n",
    "%autoreload 2\n",
    "test_valid = create_player_question_table_for_validation(test_dct, train_ids) "
   ]
  },
  {
   "cell_type": "code",
   "execution_count": 31,
   "id": "e5bc4cf8",
   "metadata": {},
   "outputs": [],
   "source": [
    "X_test = test_valid[['player_id', 'question_id']]\n",
    "X_test = encoder.transform(X_test)\n",
    "preds = model_base.predict_proba(X_test)[:, 1]"
   ]
  },
  {
   "cell_type": "code",
   "execution_count": 32,
   "id": "a3672517",
   "metadata": {
    "scrolled": true
   },
   "outputs": [],
   "source": [
    "test_valid['pred'] = preds\n",
    "test_valid['score'] = test_valid.groupby(['tournament_id', 'team_id'])['pred'].transform(lambda x: 1 - np.prod(1 - x))\n",
    "rating = test_valid[['tournament_id', 'team_id', 'points', 'score']].drop_duplicates().reset_index(drop=True)\n",
    "rating = rating.sort_values(by=['tournament_id', 'points'], ascending=False)\n",
    "rating['real_rank'] = rating.groupby('tournament_id')['points'].transform(lambda x: np.arange(1, len(x) + 1))\n",
    "rating = rating.sort_values(by=['tournament_id', 'score'], ascending=False)\n",
    "rating['pred_rank'] = rating.groupby('tournament_id')['score'].transform(lambda x: np.arange(1, len(x) + 1))\n",
    "rating = rating.astype(np.int32)"
   ]
  },
  {
   "cell_type": "code",
   "execution_count": 33,
   "id": "ba72c636",
   "metadata": {},
   "outputs": [
    {
     "data": {
      "text/plain": [
       "(0.6052112780836185, 0.5555728029445176)"
      ]
     },
     "execution_count": 33,
     "metadata": {},
     "output_type": "execute_result"
    }
   ],
   "source": [
    "calc_correlation(rating, typ='spearman'), calc_correlation(rating, typ='kendalltau')"
   ]
  },
  {
   "cell_type": "markdown",
   "id": "2a460f8e",
   "metadata": {},
   "source": [
    "Получили относительно неплохое значение корреляции с истинными значениями турниров"
   ]
  }
 ],
 "metadata": {
  "kernelspec": {
   "display_name": "Python 3 (ipykernel)",
   "language": "python",
   "name": "python3"
  },
  "language_info": {
   "codemirror_mode": {
    "name": "ipython",
    "version": 3
   },
   "file_extension": ".py",
   "mimetype": "text/x-python",
   "name": "python",
   "nbconvert_exporter": "python",
   "pygments_lexer": "ipython3",
   "version": "3.9.12"
  }
 },
 "nbformat": 4,
 "nbformat_minor": 5
}
