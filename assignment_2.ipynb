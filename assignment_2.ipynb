{
 "cells": [
  {
   "cell_type": "code",
   "execution_count": 53,
   "id": "06f4ab46",
   "metadata": {},
   "outputs": [],
   "source": [
    "import pandas as pd\n",
    "import matplotlib.pyplot as plt\n",
    "import numpy as np\n",
    "import pickle\n",
    "\n",
    "from scipy import stats\n",
    "from sklearn.linear_model import LogisticRegression\n",
    "from sklearn.preprocessing import OneHotEncoder"
   ]
  },
  {
   "cell_type": "code",
   "execution_count": 59,
   "id": "8ce0688d",
   "metadata": {},
   "outputs": [],
   "source": [
    "from assignment_hw2_module import calc_correlation\n",
    "from assignment_hw2_module import create_player_question_table\n",
    "from assignment_hw2_module import create_player_question_table_for_validation\n",
    "from assignment_hw2_module import plot_scores"
   ]
  },
  {
   "cell_type": "code",
   "execution_count": 37,
   "id": "9cb29806",
   "metadata": {},
   "outputs": [],
   "source": [
    "from assignment_hw2_module import get_scores"
   ]
  },
  {
   "cell_type": "code",
   "execution_count": 3,
   "id": "b4a3d992",
   "metadata": {},
   "outputs": [],
   "source": [
    "players_file = open(r'data/players.pkl', 'rb')\n",
    "players = pickle.load(players_file)"
   ]
  },
  {
   "cell_type": "code",
   "execution_count": 4,
   "id": "dab14c68",
   "metadata": {},
   "outputs": [],
   "source": [
    "results_file = open(r'data/results.pkl', 'rb')\n",
    "results = pickle.load(results_file)"
   ]
  },
  {
   "cell_type": "code",
   "execution_count": 5,
   "id": "688a497c",
   "metadata": {},
   "outputs": [],
   "source": [
    "tournaments_file = open(r'data/tournaments.pkl', 'rb')\n",
    "tournaments = pickle.load(tournaments_file)"
   ]
  },
  {
   "cell_type": "code",
   "execution_count": 6,
   "id": "bf2e7053",
   "metadata": {
    "scrolled": true
   },
   "outputs": [
    {
     "data": {
      "text/plain": [
       "(5528, 5528, 204063)"
      ]
     },
     "execution_count": 6,
     "metadata": {},
     "output_type": "execute_result"
    }
   ],
   "source": [
    "len(tournaments), len(results), len(players)"
   ]
  },
  {
   "cell_type": "markdown",
   "id": "d7916c45",
   "metadata": {},
   "source": [
    "1. Разбиваем на трейн и тест. Также оставляем только турниры следующих типов: 'Обычный', 'Синхрон', 'Строго синхронный'. Они входят по правилам в определение рейтинга, покрывают большую часть турниров и с ними меньше проблем при процессинге. Например, турниры \"Общий зачет\" могут иметь повторяющиеся вопросы и имея один и тот же норм менять длину маски ответов."
   ]
  },
  {
   "cell_type": "code",
   "execution_count": 7,
   "id": "598b0eaa",
   "metadata": {},
   "outputs": [],
   "source": [
    "tournament_type_to_keep = ['Обычный', 'Синхрон', 'Строго синхронный']"
   ]
  },
  {
   "cell_type": "code",
   "execution_count": 8,
   "id": "27396de8",
   "metadata": {},
   "outputs": [
    {
     "data": {
      "text/plain": [
       "0.9129884225759769"
      ]
     },
     "execution_count": 8,
     "metadata": {},
     "output_type": "execute_result"
    }
   ],
   "source": [
    "tournament_type = set()\n",
    "\n",
    "cnt = 0\n",
    "for key, elem in tournaments.items():\n",
    "    try:\n",
    "        t = elem['type']['name']\n",
    "        tournament_type.add(t)\n",
    "        if t in tournament_type_to_keep:\n",
    "            cnt += 1\n",
    "    except KeyError:\n",
    "        continue\n",
    "cnt / len(tournaments)  # доля от всех турниров"
   ]
  },
  {
   "cell_type": "code",
   "execution_count": 9,
   "id": "16d1f7b3",
   "metadata": {},
   "outputs": [],
   "source": [
    "train_ids = [elem['id'] for key, elem in tournaments.items() if elem['dateStart'][:4] == '2019' \\\n",
    "             and elem['type']['name'] in tournament_type_to_keep]\n",
    "test_ids = [elem['id'] for key, elem in tournaments.items() if elem['dateStart'][:4] == '2020'\n",
    "             and elem['type']['name'] in tournament_type_to_keep]"
   ]
  },
  {
   "cell_type": "markdown",
   "id": "09b9bff9",
   "metadata": {},
   "source": [
    "Получили маску из турниров в 2019 и 2020 годах. Теперь из results достанем списки команд, участников и маски ответов. Глобальная цель: составить пары игрок-вопрос, а также  правильно ли сделан ответ. Используя one-hot-encoding для игроков и для вопросов, получим матрицу признаков, вектор с фактом правильности ответа используем в качестве таргета. На данном этапе будем считать, что правильный ответ команды соответствует правильности ответа данного каждым игроком. \n",
    "К этим данным можно применить логистическую регрессию.\n"
   ]
  },
  {
   "cell_type": "code",
   "execution_count": 10,
   "id": "fa29e5c0",
   "metadata": {},
   "outputs": [],
   "source": [
    "teams_dct = {}\n",
    "train_dct = {}\n",
    "test_dct = {}\n",
    "\n",
    "for i, ids in enumerate(train_ids):\n",
    "    tournaments_dct = {}\n",
    "    for team in results[ids]:\n",
    "        cur_mask = team.get('mask')\n",
    "        if cur_mask is None or not team['teamMembers']:  # нет членов команды или записи ответов\n",
    "            continue\n",
    "        cur_mask = cur_mask.replace('?', '0')  # для простоты, заменим на 0 все неопределенности типа X и ?\n",
    "        cur_mask = cur_mask.replace('X', '0')\n",
    "        cur_mask = [int(ans) for ans in cur_mask]\n",
    "        team_id = team['team']['id']\n",
    "        members = [member['player']['id'] for member in team['teamMembers']]\n",
    "        tournaments_dct[team_id] = {}\n",
    "        tournaments_dct[team_id]['team_id'] = team_id\n",
    "        tournaments_dct[team_id]['mask'] = cur_mask\n",
    "        tournaments_dct[team_id]['players'] = members\n",
    "    if len(set(list(map(len, [team['mask'] for team in tournaments_dct.values()])))) == 1:  \n",
    "        train_dct[ids] = tournaments_dct\n",
    "        \n",
    "for i, ids in enumerate(test_ids):\n",
    "    tournaments_dct = {}\n",
    "    for team in results[ids]:\n",
    "        cur_mask = team.get('mask')\n",
    "        if cur_mask is None or not team['teamMembers']:  # нет членов команды или записи ответов\n",
    "            continue\n",
    "        cur_mask = cur_mask.replace('?', '0')  # для простоты, заменим на 0 все неопределенности типа X и ?\n",
    "        cur_mask = cur_mask.replace('X', '0')\n",
    "        cur_mask = [int(ans) for ans in cur_mask]\n",
    "        team_id = team['team']['id']\n",
    "        members = [member['player']['id'] for member in team['teamMembers']]\n",
    "        tournaments_dct[team_id] = {}\n",
    "        tournaments_dct[team_id]['team_id'] = team_id\n",
    "        tournaments_dct[team_id]['mask'] = cur_mask\n",
    "        tournaments_dct[team_id]['players'] = members\n",
    "    if len(set(list(map(len, [team['mask'] for team in tournaments_dct.values()])))) == 1:  \n",
    "        test_dct[ids] = tournaments_dct\n",
    "    \n",
    "        "
   ]
  },
  {
   "cell_type": "code",
   "execution_count": 11,
   "id": "bbd35b9d",
   "metadata": {
    "scrolled": true
   },
   "outputs": [
    {
     "data": {
      "text/plain": [
       "dict_keys([4957, 5414, 5719, 5730, 5731, 5732, 5746, 5753, 5754, 5787, 5793, 5798, 5799, 5804, 5806, 5809, 5810, 5823, 5846, 5848, 5849, 5856, 5889, 5891, 5923, 5925, 5962, 5968, 5970, 5973, 6002, 6004, 6016, 6019, 6020, 6041, 6042, 6045, 6046, 6059, 6064, 6067, 6070, 6073, 6075, 6076, 6083, 6093, 6095, 6096, 6108, 6109, 6111, 6121, 6124, 6132, 6133, 6134, 6139, 6142, 6160, 6162, 6163, 6165, 6166, 6171, 6176, 6177, 6180, 6181, 6182, 6184, 6185, 6186, 6187, 6188, 6190, 6193, 6196, 6197, 6199, 6200, 6201, 6202, 6204, 6205, 6207, 6208, 6211, 6212, 6213, 6215, 6216, 6217, 6218, 6220, 6221, 6222, 6223, 6225, 6227, 6228, 6229, 6230, 6233, 6234, 6237, 6239, 6244, 6245, 6246, 6247, 6250, 6256, 6257, 6259, 6261, 6262, 6263, 6269, 6270, 6271, 6272, 6277, 6284, 6285, 6289, 6292, 6293, 6295, 6296, 6298, 6301, 6313, 6314, 6317, 6320, 6323, 6325, 6330, 6331, 6339, 6340, 6342, 6405, 6409, 6410, 6428, 6437, 6438, 6456])"
      ]
     },
     "execution_count": 11,
     "metadata": {},
     "output_type": "execute_result"
    }
   ],
   "source": [
    "test_dct.keys()"
   ]
  },
  {
   "cell_type": "code",
   "execution_count": 12,
   "id": "91c86a97",
   "metadata": {},
   "outputs": [],
   "source": [
    "train = create_player_question_table(train_dct)  # здесь dataframe собираем с парами"
   ]
  },
  {
   "cell_type": "code",
   "execution_count": 13,
   "id": "718e180c",
   "metadata": {},
   "outputs": [],
   "source": [
    "# оставим в тесте только тех, кто в треине был\n",
    "test_base = create_player_question_table(test_dct) \n",
    "test_base = test_base[test_base['player_id'].isin(set(train['player_id']))] "
   ]
  },
  {
   "cell_type": "code",
   "execution_count": 14,
   "id": "f81bca27",
   "metadata": {},
   "outputs": [],
   "source": [
    "encoder = OneHotEncoder(handle_unknown='ignore')\n",
    "X_train = encoder.fit_transform(train[['player_id', 'question_id']])\n",
    "y_train = train['answer']"
   ]
  },
  {
   "cell_type": "code",
   "execution_count": 15,
   "id": "0fcf44d3",
   "metadata": {},
   "outputs": [
    {
     "data": {
      "text/plain": [
       "((14583666, 73350), (14583666,))"
      ]
     },
     "execution_count": 15,
     "metadata": {},
     "output_type": "execute_result"
    }
   ],
   "source": [
    "X_train.shape, y_train.shape"
   ]
  },
  {
   "cell_type": "code",
   "execution_count": 16,
   "id": "d3410eb9",
   "metadata": {},
   "outputs": [
    {
     "name": "stderr",
     "output_type": "stream",
     "text": [
      "/opt/homebrew/lib/python3.9/site-packages/sklearn/linear_model/_logistic.py:814: ConvergenceWarning: lbfgs failed to converge (status=1):\n",
      "STOP: TOTAL NO. of ITERATIONS REACHED LIMIT.\n",
      "\n",
      "Increase the number of iterations (max_iter) or scale the data as shown in:\n",
      "    https://scikit-learn.org/stable/modules/preprocessing.html\n",
      "Please also refer to the documentation for alternative solver options:\n",
      "    https://scikit-learn.org/stable/modules/linear_model.html#logistic-regression\n",
      "  n_iter_i = _check_optimize_result(\n"
     ]
    },
    {
     "data": {
      "text/plain": [
       "LogisticRegression(C=1, max_iter=500, n_jobs=-1, random_state=42)"
      ]
     },
     "execution_count": 16,
     "metadata": {},
     "output_type": "execute_result"
    }
   ],
   "source": [
    "model_base = LogisticRegression(C=1, random_state=42, max_iter=500, n_jobs=-1)\n",
    "\n",
    "model_base.fit(X_train, y_train)"
   ]
  },
  {
   "cell_type": "code",
   "execution_count": 17,
   "id": "9a3982b5",
   "metadata": {},
   "outputs": [],
   "source": [
    "X_test = encoder.transform(test_base[['player_id', 'question_id']])\n",
    "y_test = test_base['answer']"
   ]
  },
  {
   "cell_type": "code",
   "execution_count": 18,
   "id": "ddf46cba",
   "metadata": {},
   "outputs": [
    {
     "data": {
      "text/plain": [
       "((3217971, 73350), (3217971,))"
      ]
     },
     "execution_count": 18,
     "metadata": {},
     "output_type": "execute_result"
    }
   ],
   "source": [
    "X_test.shape, y_test.shape"
   ]
  },
  {
   "cell_type": "code",
   "execution_count": 19,
   "id": "421024dd",
   "metadata": {
    "scrolled": true
   },
   "outputs": [
    {
     "data": {
      "text/plain": [
       "0.5427034612804155"
      ]
     },
     "execution_count": 19,
     "metadata": {},
     "output_type": "execute_result"
    }
   ],
   "source": [
    "model_base.score(X_test, y_test)"
   ]
  },
  {
   "cell_type": "code",
   "execution_count": 20,
   "id": "fc2ba830",
   "metadata": {},
   "outputs": [
    {
     "data": {
      "text/plain": [
       "array([[ 0.4799294 ,  1.3371425 ,  0.90541589, ...,  3.00241679,\n",
       "        -0.57982532,  0.17785832]])"
      ]
     },
     "execution_count": 20,
     "metadata": {},
     "output_type": "execute_result"
    }
   ],
   "source": [
    "model_base.coef_"
   ]
  },
  {
   "cell_type": "markdown",
   "id": "08998052",
   "metadata": {},
   "source": [
    "Для валидации посмотрим вероятность того, что хотя бы один член команды сможет ответить на вопрос. В тест добавим еще общее количество правильных ответов у команды"
   ]
  },
  {
   "cell_type": "code",
   "execution_count": 21,
   "id": "140208b5",
   "metadata": {},
   "outputs": [],
   "source": [
    "# %load_ext autoreload  # нужно для обновления изменений в модуле.\n",
    "# %autoreload 2\n",
    "test_valid = create_player_question_table_for_validation(test_dct, train_ids) "
   ]
  },
  {
   "cell_type": "code",
   "execution_count": 22,
   "id": "70b765a4",
   "metadata": {},
   "outputs": [],
   "source": [
    "X_test = test_valid[['player_id', 'question_id']]\n",
    "X_test = encoder.transform(X_test)\n",
    "preds = model_base.predict_proba(X_test)[:, 1]"
   ]
  },
  {
   "cell_type": "code",
   "execution_count": 23,
   "id": "caa91005",
   "metadata": {
    "scrolled": true
   },
   "outputs": [],
   "source": [
    "test_valid['pred'] = preds\n",
    "test_valid['score'] = test_valid.groupby(['tournament_id', 'team_id'])['pred'].transform(lambda x: 1 - np.prod(1 - x))\n",
    "rating = test_valid[['tournament_id', 'team_id', 'points', 'score']].drop_duplicates().reset_index(drop=True)\n",
    "rating = rating.sort_values(by=['tournament_id', 'points'], ascending=False)\n",
    "rating['real_rank'] = rating.groupby('tournament_id')['points'].transform(lambda x: np.arange(1, len(x) + 1))\n",
    "rating = rating.sort_values(by=['tournament_id', 'score'], ascending=False)\n",
    "rating['pred_rank'] = rating.groupby('tournament_id')['score'].transform(lambda x: np.arange(1, len(x) + 1))\n",
    "rating = rating.astype(np.int32)"
   ]
  },
  {
   "cell_type": "code",
   "execution_count": 24,
   "id": "f118a927",
   "metadata": {},
   "outputs": [
    {
     "data": {
      "text/plain": [
       "(0.6052112780836185, 0.5555728029445176)"
      ]
     },
     "execution_count": 24,
     "metadata": {},
     "output_type": "execute_result"
    }
   ],
   "source": [
    "calc_correlation(rating, typ='spearman'), calc_correlation(rating, typ='kendalltau')"
   ]
  },
  {
   "cell_type": "markdown",
   "id": "3f4897cc",
   "metadata": {},
   "source": [
    "Получили относительно неплохое значение корреляции с истинными значениями турниров"
   ]
  },
  {
   "cell_type": "markdown",
   "id": "2b36746f",
   "metadata": {},
   "source": [
    "EM-алгоритм.\n",
    "Введем скрытую переменную $z_{ij}$ - ответил ли iй игрок на jй вопрос. Соответственно $y_{kj}$ - ответила ли k-я команда на j-й вопрос. На шаге Е, будем определять и обновлять следующую величину:\n",
    "$E[z_{ij}] = P[ответил \\, игрок| команда \\, ответила]$\n"
   ]
  },
  {
   "cell_type": "code",
   "execution_count": 27,
   "id": "4b57ef7c",
   "metadata": {
    "scrolled": true
   },
   "outputs": [],
   "source": [
    "train = create_player_question_table(train_dct)"
   ]
  },
  {
   "cell_type": "code",
   "execution_count": 28,
   "id": "af2299dd",
   "metadata": {},
   "outputs": [],
   "source": [
    "model_for_m_step = LogisticRegression(C=1, random_state=42, n_jobs=-1, max_iter=10)"
   ]
  },
  {
   "cell_type": "code",
   "execution_count": 55,
   "id": "c7cda74b",
   "metadata": {},
   "outputs": [],
   "source": [
    "from em import EMClassifier"
   ]
  },
  {
   "cell_type": "code",
   "execution_count": 47,
   "id": "e41f1c2d",
   "metadata": {},
   "outputs": [],
   "source": [
    "em_classifier = EMClassifier(model_base)"
   ]
  },
  {
   "cell_type": "code",
   "execution_count": 48,
   "id": "8b476014",
   "metadata": {
    "collapsed": true
   },
   "outputs": [
    {
     "name": "stdout",
     "output_type": "stream",
     "text": [
      "iter 0\n",
      "iter 1\n",
      "iter 2\n",
      "iter 3\n",
      "iter 4\n",
      "iter 5\n",
      "iter 6\n",
      "iter 7\n",
      "iter 8\n",
      "iter 9\n",
      "iter 10\n",
      "iter 11\n",
      "iter 12\n",
      "iter 13\n",
      "iter 14\n",
      "iter 15\n",
      "iter 16\n",
      "iter 17\n",
      "iter 18\n",
      "iter 19\n",
      "iter 20\n",
      "iter 21\n",
      "iter 22\n",
      "iter 23\n",
      "iter 24\n",
      "iter 25\n",
      "iter 26\n",
      "iter 27\n",
      "iter 28\n",
      "iter 29\n",
      "iter 30\n",
      "iter 31\n",
      "iter 32\n",
      "iter 33\n",
      "iter 34\n",
      "iter 35\n",
      "iter 36\n",
      "iter 37\n",
      "iter 38\n",
      "iter 39\n",
      "iter 40\n",
      "iter 41\n",
      "iter 42\n",
      "iter 43\n",
      "iter 44\n",
      "iter 45\n",
      "iter 46\n",
      "iter 47\n",
      "iter 48\n",
      "iter 49\n"
     ]
    }
   ],
   "source": [
    "em_classifier.fit(X_train, train, X_test, test_valid)"
   ]
  },
  {
   "cell_type": "code",
   "execution_count": 51,
   "id": "48dada2e",
   "metadata": {
    "scrolled": true
   },
   "outputs": [],
   "source": [
    "spearman = [elem[0] for elem in em_classifier.scores]\n",
    "kendalltau = [elem[1] for elem in em_classifier.scores]\n",
    "iters = [i+1 for i in range(len(em_classifier.scores))]"
   ]
  },
  {
   "cell_type": "code",
   "execution_count": 54,
   "id": "cc52cc9e",
   "metadata": {},
   "outputs": [
    {
     "data": {
      "image/png": "[encoded data removed]",
      "text/plain": [
       "<Figure size 432x288 with 1 Axes>"
      ]
     },
     "metadata": {
      "needs_background": "light"
     },
     "output_type": "display_data"
    }
   ],
   "source": [
    "plt.plot(iters, spearman, color='r', label='spearman')\n",
    "plt.plot(iters, kendalltau, color='g', label='kendalltau')\n",
    "\n",
    "plt.xlabel(\"iterations\")\n",
    "plt.ylabel(\"scores\")\n",
    "plt.title(\"\")\n",
    "plt.legend()\n",
    "plt.show()"
   ]
  },
  {
   "cell_type": "markdown",
   "id": "1018ae08",
   "metadata": {},
   "source": [
    "В начале наблюдается ожидаемый рост характеристик, затем падение. Возможно из-за переобучения. Обучим модель заново, оставив только 10 итераций."
   ]
  },
  {
   "cell_type": "code",
   "execution_count": 56,
   "id": "573bbf09",
   "metadata": {},
   "outputs": [],
   "source": [
    "updated_em = EMClassifier(model_base)"
   ]
  },
  {
   "cell_type": "code",
   "execution_count": 57,
   "id": "7d964cf3",
   "metadata": {
    "scrolled": true
   },
   "outputs": [
    {
     "name": "stdout",
     "output_type": "stream",
     "text": [
      "iter 0\n",
      "iter 1\n",
      "iter 2\n",
      "iter 3\n",
      "iter 4\n",
      "iter 5\n",
      "iter 6\n",
      "iter 7\n",
      "iter 8\n",
      "iter 9\n"
     ]
    }
   ],
   "source": [
    "updated_em.fit(X_train, train, X_test, test_valid)"
   ]
  },
  {
   "cell_type": "code",
   "execution_count": 61,
   "id": "c90f85cf",
   "metadata": {},
   "outputs": [
    {
     "data": {
      "image/png": "[encoded data removed]",
      "text/plain": [
       "<Figure size 432x288 with 1 Axes>"
      ]
     },
     "metadata": {
      "needs_background": "light"
     },
     "output_type": "display_data"
    }
   ],
   "source": [
    "plot_scores(updated_em.scores)"
   ]
  },
  {
   "cell_type": "markdown",
   "id": "eaef1917",
   "metadata": {},
   "source": [
    "Построим повопросный рейтинг"
   ]
  },
  {
   "cell_type": "code",
   "execution_count": 68,
   "id": "504608bd",
   "metadata": {},
   "outputs": [],
   "source": [
    "q_rating = dict(zip(np.unique(train['question_id']), updated_em.w[-len(np.unique(train['question_id'])):]))\n",
    "train['difficulty'] = train['question_id'].map(q_rating)\n",
    "train['tournament_name'] = train['tournament_id'].map({v['id']: v['name']for k, v in tournaments.items()})"
   ]
  },
  {
   "cell_type": "code",
   "execution_count": 69,
   "id": "bbf50922",
   "metadata": {},
   "outputs": [],
   "source": [
    "tournaments_rating = train[['tournament_name', 'question_id', 'difficulty']].drop_duplicates()\n",
    "tournaments_rating = tournaments_rating.groupby('tournament_name')['difficulty'].mean().sort_values().reset_index()"
   ]
  },
  {
   "cell_type": "code",
   "execution_count": 70,
   "id": "43787c94",
   "metadata": {
    "scrolled": true
   },
   "outputs": [
    {
     "data": {
      "text/html": [
       "<div>\n",
       "<style scoped>\n",
       "    .dataframe tbody tr th:only-of-type {\n",
       "        vertical-align: middle;\n",
       "    }\n",
       "\n",
       "    .dataframe tbody tr th {\n",
       "        vertical-align: top;\n",
       "    }\n",
       "\n",
       "    .dataframe thead th {\n",
       "        text-align: right;\n",
       "    }\n",
       "</style>\n",
       "<table border=\"1\" class=\"dataframe\">\n",
       "  <thead>\n",
       "    <tr style=\"text-align: right;\">\n",
       "      <th></th>\n",
       "      <th>tournament_name</th>\n",
       "      <th>difficulty</th>\n",
       "    </tr>\n",
       "  </thead>\n",
       "  <tbody>\n",
       "    <tr>\n",
       "      <th>0</th>\n",
       "      <td>Чемпионат Санкт-Петербурга. Первая лига</td>\n",
       "      <td>-4.571918</td>\n",
       "    </tr>\n",
       "    <tr>\n",
       "      <th>1</th>\n",
       "      <td>Угрюмый Ёрш</td>\n",
       "      <td>-2.026828</td>\n",
       "    </tr>\n",
       "    <tr>\n",
       "      <th>2</th>\n",
       "      <td>Синхрон высшей лиги Москвы</td>\n",
       "      <td>-1.887739</td>\n",
       "    </tr>\n",
       "    <tr>\n",
       "      <th>3</th>\n",
       "      <td>Первенство правого полушария</td>\n",
       "      <td>-1.823139</td>\n",
       "    </tr>\n",
       "    <tr>\n",
       "      <th>4</th>\n",
       "      <td>Воображаемый музей</td>\n",
       "      <td>-1.697624</td>\n",
       "    </tr>\n",
       "    <tr>\n",
       "      <th>5</th>\n",
       "      <td>Кубок городов</td>\n",
       "      <td>-1.601698</td>\n",
       "    </tr>\n",
       "    <tr>\n",
       "      <th>6</th>\n",
       "      <td>Записки охотника</td>\n",
       "      <td>-1.506810</td>\n",
       "    </tr>\n",
       "    <tr>\n",
       "      <th>7</th>\n",
       "      <td>Чемпионат России</td>\n",
       "      <td>-1.485010</td>\n",
       "    </tr>\n",
       "    <tr>\n",
       "      <th>8</th>\n",
       "      <td>Ускользающая сова</td>\n",
       "      <td>-1.455377</td>\n",
       "    </tr>\n",
       "    <tr>\n",
       "      <th>9</th>\n",
       "      <td>Чемпионат Мира. Этап 3. Группа В</td>\n",
       "      <td>-1.417181</td>\n",
       "    </tr>\n",
       "    <tr>\n",
       "      <th>10</th>\n",
       "      <td>Знание – Сила VI</td>\n",
       "      <td>-1.406939</td>\n",
       "    </tr>\n",
       "    <tr>\n",
       "      <th>11</th>\n",
       "      <td>Чемпионат Мира. Этап 2. Группа В</td>\n",
       "      <td>-1.399704</td>\n",
       "    </tr>\n",
       "    <tr>\n",
       "      <th>12</th>\n",
       "      <td>Чемпионат Мира. Этап 2 Группа С</td>\n",
       "      <td>-1.392455</td>\n",
       "    </tr>\n",
       "    <tr>\n",
       "      <th>13</th>\n",
       "      <td>All Cats Are Beautiful</td>\n",
       "      <td>-1.369905</td>\n",
       "    </tr>\n",
       "    <tr>\n",
       "      <th>14</th>\n",
       "      <td>VERSUS: Коробейников vs. Матвеев</td>\n",
       "      <td>-1.362396</td>\n",
       "    </tr>\n",
       "    <tr>\n",
       "      <th>15</th>\n",
       "      <td>Чемпионат Минска. Лига А. Тур четвёртый</td>\n",
       "      <td>-1.344334</td>\n",
       "    </tr>\n",
       "    <tr>\n",
       "      <th>16</th>\n",
       "      <td>Ра-II: синхрон \"Борского корабела\"</td>\n",
       "      <td>-1.320014</td>\n",
       "    </tr>\n",
       "    <tr>\n",
       "      <th>17</th>\n",
       "      <td>Чемпионат Мира. Финал. Группа С</td>\n",
       "      <td>-1.314036</td>\n",
       "    </tr>\n",
       "    <tr>\n",
       "      <th>18</th>\n",
       "      <td>Чемпионат Мира. Этап 2. Группа А</td>\n",
       "      <td>-1.304727</td>\n",
       "    </tr>\n",
       "    <tr>\n",
       "      <th>19</th>\n",
       "      <td>Чемпионат Мира. Этап 3. Группа С</td>\n",
       "      <td>-1.301067</td>\n",
       "    </tr>\n",
       "    <tr>\n",
       "      <th>20</th>\n",
       "      <td>Антибинго</td>\n",
       "      <td>-1.297562</td>\n",
       "    </tr>\n",
       "    <tr>\n",
       "      <th>21</th>\n",
       "      <td>Кубок Москвы</td>\n",
       "      <td>-1.296406</td>\n",
       "    </tr>\n",
       "    <tr>\n",
       "      <th>22</th>\n",
       "      <td>Тихий Донец: омут первый</td>\n",
       "      <td>-1.295134</td>\n",
       "    </tr>\n",
       "    <tr>\n",
       "      <th>23</th>\n",
       "      <td>Зеркало мемориала памяти Михаила Басса</td>\n",
       "      <td>-1.289959</td>\n",
       "    </tr>\n",
       "    <tr>\n",
       "      <th>24</th>\n",
       "      <td>Львов зимой. Адвокат</td>\n",
       "      <td>-1.250111</td>\n",
       "    </tr>\n",
       "    <tr>\n",
       "      <th>25</th>\n",
       "      <td>Мемориал Дмитрия Коноваленко</td>\n",
       "      <td>-1.237006</td>\n",
       "    </tr>\n",
       "    <tr>\n",
       "      <th>26</th>\n",
       "      <td>Чемпионат Мира. Этап 1. Группа С</td>\n",
       "      <td>-1.227766</td>\n",
       "    </tr>\n",
       "    <tr>\n",
       "      <th>27</th>\n",
       "      <td>Линч</td>\n",
       "      <td>-1.218738</td>\n",
       "    </tr>\n",
       "    <tr>\n",
       "      <th>28</th>\n",
       "      <td>Серия Premier. Седьмая печать</td>\n",
       "      <td>-1.201321</td>\n",
       "    </tr>\n",
       "    <tr>\n",
       "      <th>29</th>\n",
       "      <td>Кубок Кайнозоя</td>\n",
       "      <td>-1.186278</td>\n",
       "    </tr>\n",
       "  </tbody>\n",
       "</table>\n",
       "</div>"
      ],
      "text/plain": [
       "                            tournament_name  difficulty\n",
       "0   Чемпионат Санкт-Петербурга. Первая лига   -4.571918\n",
       "1                               Угрюмый Ёрш   -2.026828\n",
       "2                Синхрон высшей лиги Москвы   -1.887739\n",
       "3              Первенство правого полушария   -1.823139\n",
       "4                        Воображаемый музей   -1.697624\n",
       "5                             Кубок городов   -1.601698\n",
       "6                          Записки охотника   -1.506810\n",
       "7                          Чемпионат России   -1.485010\n",
       "8                         Ускользающая сова   -1.455377\n",
       "9          Чемпионат Мира. Этап 3. Группа В   -1.417181\n",
       "10                         Знание – Сила VI   -1.406939\n",
       "11         Чемпионат Мира. Этап 2. Группа В   -1.399704\n",
       "12          Чемпионат Мира. Этап 2 Группа С   -1.392455\n",
       "13                   All Cats Are Beautiful   -1.369905\n",
       "14         VERSUS: Коробейников vs. Матвеев   -1.362396\n",
       "15  Чемпионат Минска. Лига А. Тур четвёртый   -1.344334\n",
       "16       Ра-II: синхрон \"Борского корабела\"   -1.320014\n",
       "17          Чемпионат Мира. Финал. Группа С   -1.314036\n",
       "18         Чемпионат Мира. Этап 2. Группа А   -1.304727\n",
       "19         Чемпионат Мира. Этап 3. Группа С   -1.301067\n",
       "20                                Антибинго   -1.297562\n",
       "21                             Кубок Москвы   -1.296406\n",
       "22                 Тихий Донец: омут первый   -1.295134\n",
       "23   Зеркало мемориала памяти Михаила Басса   -1.289959\n",
       "24                     Львов зимой. Адвокат   -1.250111\n",
       "25             Мемориал Дмитрия Коноваленко   -1.237006\n",
       "26         Чемпионат Мира. Этап 1. Группа С   -1.227766\n",
       "27                                     Линч   -1.218738\n",
       "28            Серия Premier. Седьмая печать   -1.201321\n",
       "29                           Кубок Кайнозоя   -1.186278"
      ]
     },
     "execution_count": 70,
     "metadata": {},
     "output_type": "execute_result"
    }
   ],
   "source": [
    "tournaments_rating.head(30)  "
   ]
  },
  {
   "cell_type": "markdown",
   "id": "4f7167c8",
   "metadata": {},
   "source": [
    "Самые сложные турниры. В топ 30 есть турниры есть сложные турниры, если судит по названию. Например, чемпионаты России и мира."
   ]
  },
  {
   "cell_type": "code",
   "execution_count": null,
   "id": "7002e69f",
   "metadata": {},
   "outputs": [],
   "source": []
  }
 ],
 "metadata": {
  "kernelspec": {
   "display_name": "Python 3 (ipykernel)",
   "language": "python",
   "name": "python3"
  },
  "language_info": {
   "codemirror_mode": {
    "name": "ipython",
    "version": 3
   },
   "file_extension": ".py",
   "mimetype": "text/x-python",
   "name": "python",
   "nbconvert_exporter": "python",
   "pygments_lexer": "ipython3",
   "version": "3.9.12"
  }
 },
 "nbformat": 4,
 "nbformat_minor": 5
}
