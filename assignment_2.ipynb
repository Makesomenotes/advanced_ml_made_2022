{
 "cells": [
  {
   "cell_type": "code",
   "execution_count": 1,
   "id": "06f4ab46",
   "metadata": {},
   "outputs": [],
   "source": [
    "import pandas as pd\n",
    "import numpy as np\n",
    "import pickle\n",
    "\n",
    "from sklearn.linear_model import LogisticRegression\n",
    "from sklearn.preprocessing import OneHotEncoder"
   ]
  },
  {
   "cell_type": "code",
   "execution_count": 2,
   "id": "b4a3d992",
   "metadata": {},
   "outputs": [],
   "source": [
    "players_file = open(r'data/players.pkl', 'rb')\n",
    "players = pickle.load(players_file)"
   ]
  },
  {
   "cell_type": "code",
   "execution_count": 3,
   "id": "dab14c68",
   "metadata": {},
   "outputs": [],
   "source": [
    "results_file = open(r'data/results.pkl', 'rb')\n",
    "results = pickle.load(results_file)"
   ]
  },
  {
   "cell_type": "code",
   "execution_count": 4,
   "id": "688a497c",
   "metadata": {},
   "outputs": [],
   "source": [
    "tournaments_file = open(r'data/tournaments.pkl', 'rb')\n",
    "tournaments = pickle.load(tournaments_file)"
   ]
  },
  {
   "cell_type": "code",
   "execution_count": 5,
   "id": "bf2e7053",
   "metadata": {
    "scrolled": true
   },
   "outputs": [
    {
     "data": {
      "text/plain": [
       "(5528, 5528, 204063)"
      ]
     },
     "execution_count": 5,
     "metadata": {},
     "output_type": "execute_result"
    }
   ],
   "source": [
    "len(tournaments), len(results), len(players)"
   ]
  },
  {
   "cell_type": "markdown",
   "id": "d7916c45",
   "metadata": {},
   "source": [
    "1. Разбиваем на трейн и тест. Также оставляем только турниры следующих типов: 'Обычный', 'Синхрон', 'Строго синхронный'. Они входят по правилам в определение рейтинга, покрывают большую часть турниров и с ними меньше проблем при процессинге. Например, турниры \"Общий зачет\" могут иметь повторяющиеся вопросы и имея один и тот же норм менять длину маски ответов."
   ]
  },
  {
   "cell_type": "code",
   "execution_count": 6,
   "id": "598b0eaa",
   "metadata": {},
   "outputs": [],
   "source": [
    "tournament_type_to_keep = ['Обычный', 'Синхрон', 'Строго синхронный']"
   ]
  },
  {
   "cell_type": "code",
   "execution_count": 7,
   "id": "27396de8",
   "metadata": {},
   "outputs": [
    {
     "data": {
      "text/plain": [
       "0.9129884225759769"
      ]
     },
     "execution_count": 7,
     "metadata": {},
     "output_type": "execute_result"
    }
   ],
   "source": [
    "tournament_type = set()\n",
    "\n",
    "cnt = 0\n",
    "for key, elem in tournaments.items():\n",
    "    try:\n",
    "        t = elem['type']['name']\n",
    "        tournament_type.add(t)\n",
    "        if t in tournament_type_to_keep:\n",
    "            cnt += 1\n",
    "    except KeyError:\n",
    "        continue\n",
    "cnt / len(tournaments)  # доля от всех турниров"
   ]
  },
  {
   "cell_type": "code",
   "execution_count": 8,
   "id": "16d1f7b3",
   "metadata": {},
   "outputs": [],
   "source": [
    "train_ids = [elem['id'] for key, elem in tournaments.items() if elem['dateStart'][:4] == '2019' \\\n",
    "             and elem['type']['name'] in tournament_type_to_keep]\n",
    "test_ids = [elem['id'] for key, elem in tournaments.items() if elem['dateStart'][:4] == '2020'\n",
    "             and elem['type']['name'] in tournament_type_to_keep]"
   ]
  },
  {
   "cell_type": "markdown",
   "id": "d68da767",
   "metadata": {},
   "source": [
    "Получили маску из турниров в 2019 и 2020 годах. Теперь из results достанем списки команд, участников и маски ответов. Глобальная цель: составить пары игрок-вопрос, а также  правильно ли сделан ответ. Используя one-hot-encoding для игроков и для вопросов, получим матрицу признаков, вектор с фактом правильности ответа используем в качестве таргета. На данном этапе будем считать, что правильный ответ команды соответствует правильности ответа данного каждым игроком. \n",
    "К этим данным можно применить логистическую регрессию.\n"
   ]
  },
  {
   "cell_type": "code",
   "execution_count": 9,
   "id": "be1c826b",
   "metadata": {},
   "outputs": [],
   "source": [
    "teams_dct = {}\n",
    "train_dct = {}\n",
    "test_dct = {}\n",
    "\n",
    "for i, ids in enumerate(train_ids):\n",
    "    tournaments_dct = {}\n",
    "    for team in results[ids]:\n",
    "        cur_mask = team.get('mask')\n",
    "        if cur_mask is None or not team['teamMembers']:  # нет членов команды или записи ответов\n",
    "            continue\n",
    "        cur_mask = cur_mask.replace('?', '0')  # для простоты, заменим на 0 все неопределенности типа X и ?\n",
    "        cur_mask = cur_mask.replace('X', '0')\n",
    "        cur_mask = [int(ans) for ans in cur_mask]\n",
    "        team_id = team['team']['id']\n",
    "        members = [member['player']['id'] for member in team['teamMembers']]\n",
    "        tournaments_dct[team_id] = {}\n",
    "        tournaments_dct[team_id]['team_id'] = team_id\n",
    "        tournaments_dct[team_id]['mask'] = cur_mask\n",
    "        tournaments_dct[team_id]['players'] = members\n",
    "    train_dct[ids] = tournaments_dct\n",
    "    \n",
    "# аналогично для теста\n",
    "for i, ids in enumerate(test_ids):\n",
    "    tournaments_dct = {}\n",
    "    for team in results[ids]:\n",
    "        cur_mask = team.get('mask')\n",
    "        if cur_mask is None or not team['teamMembers']:  \n",
    "            continue\n",
    "        cur_mask = cur_mask.replace('?', '0') \n",
    "        cur_mask = cur_mask.replace('X', '0')\n",
    "        cur_mask = [int(ans) for ans in cur_mask]\n",
    "        team_id = team['team']['id']\n",
    "        members = [member['player']['id'] for member in team['teamMembers']]\n",
    "        tournaments_dct[team_id] = {}\n",
    "        tournaments_dct[team_id]['team_id'] = team_id\n",
    "        tournaments_dct[team_id]['mask'] = cur_mask\n",
    "        tournaments_dct[team_id]['players'] = members\n",
    "    test_dct[ids] = tournaments_dct\n",
    "        "
   ]
  },
  {
   "cell_type": "code",
   "execution_count": 11,
   "id": "6c36c320",
   "metadata": {},
   "outputs": [],
   "source": [
    "train = []\n",
    "qnt = 0\n",
    "\n",
    "for tournament_id, teams in train_dct.items():\n",
    "    for team_id, team in teams.items():\n",
    "        mask = np.array([np.int32(answer) for answer in team['mask']])\n",
    "        players = team['players']\n",
    "        questions = np.tile(np.arange(qnt, qnt + len(mask)), len(players))\n",
    "        ans = np.array(np.meshgrid(players, mask)).T.reshape(-1, 2)\n",
    "        ans = np.hstack([np.repeat(tournament_id, len(questions)).reshape(-1, 1),\n",
    "np.repeat(team_id, len(questions)).reshape(-1, 1), questions.reshape(-1, 1), ans])\n",
    "        train.append(ans)    \n",
    "    qnt += len(mask)"
   ]
  },
  {
   "cell_type": "code",
   "execution_count": 12,
   "id": "0b98f1a0",
   "metadata": {},
   "outputs": [],
   "source": [
    "train = np.vstack(train).astype(np.int32)\n",
    "train = pd.DataFrame(train,columns = ['tournament_id', 'team_id', 'player_id', 'question_id', 'answer'])"
   ]
  },
  {
   "cell_type": "code",
   "execution_count": 14,
   "id": "9a367845",
   "metadata": {},
   "outputs": [],
   "source": [
    "test = []\n",
    "qnt = 0\n",
    "\n",
    "for tournament_id, teams in test_dct.items():\n",
    "    for team_id, team in teams.items():\n",
    "        mask = np.array([np.int32(answer) for answer in team['mask']])\n",
    "        players = team['players']\n",
    "        questions = np.tile(np.arange(qnt, qnt + len(mask)), len(players))\n",
    "        ans = np.array(np.meshgrid(players, mask)).T.reshape(-1, 2)\n",
    "        ans = np.hstack([np.repeat(tournament_id, len(questions)).reshape(-1, 1),\n",
    "np.repeat(team_id, len(questions)).reshape(-1, 1), questions.reshape(-1, 1), ans])\n",
    "        test.append(ans)    \n",
    "    qnt += len(mask)\n",
    "    \n",
    "test = np.vstack(test).astype(np.int32)\n",
    "test = pd.DataFrame(test, columns = ['tournament_id', 'team_id', 'player_id', 'question_id', 'answer'])"
   ]
  },
  {
   "cell_type": "code",
   "execution_count": 28,
   "id": "60b8786b",
   "metadata": {
    "scrolled": true
   },
   "outputs": [
    {
     "data": {
      "text/plain": [
       "29971"
      ]
     },
     "execution_count": 28,
     "metadata": {},
     "output_type": "execute_result"
    }
   ],
   "source": [
    "max(train['player_id'])"
   ]
  },
  {
   "cell_type": "code",
   "execution_count": 16,
   "id": "fcc1545e",
   "metadata": {},
   "outputs": [],
   "source": [
    "test = test[test['player_id'].isin(set(train['player_id']))] # оставим в тесте только тех, кто в треине был"
   ]
  },
  {
   "cell_type": "code",
   "execution_count": 17,
   "id": "a4a7851d",
   "metadata": {},
   "outputs": [],
   "source": [
    "encoder = OneHotEncoder(handle_unknown='ignore')\n",
    "\n",
    "X_train = encoder.fit_transform(train[['player_id', 'question_id']])\n",
    "y_train = train['answer']"
   ]
  },
  {
   "cell_type": "code",
   "execution_count": 24,
   "id": "d3410eb9",
   "metadata": {},
   "outputs": [
    {
     "name": "stderr",
     "output_type": "stream",
     "text": [
      "/opt/homebrew/lib/python3.9/site-packages/sklearn/linear_model/_logistic.py:814: ConvergenceWarning: lbfgs failed to converge (status=1):\n",
      "STOP: TOTAL NO. of ITERATIONS REACHED LIMIT.\n",
      "\n",
      "Increase the number of iterations (max_iter) or scale the data as shown in:\n",
      "    https://scikit-learn.org/stable/modules/preprocessing.html\n",
      "Please also refer to the documentation for alternative solver options:\n",
      "    https://scikit-learn.org/stable/modules/linear_model.html#logistic-regression\n",
      "  n_iter_i = _check_optimize_result(\n"
     ]
    },
    {
     "data": {
      "text/plain": [
       "LogisticRegression(C=1, n_jobs=-1, random_state=42)"
      ]
     },
     "execution_count": 24,
     "metadata": {},
     "output_type": "execute_result"
    }
   ],
   "source": [
    "model = LogisticRegression(C=1, random_state=42, n_jobs=-1)\n",
    "\n",
    "model.fit(X_train, y_train)"
   ]
  },
  {
   "cell_type": "code",
   "execution_count": 25,
   "id": "7c614d7b",
   "metadata": {},
   "outputs": [],
   "source": [
    "X_test = encoder.transform(test[['player_id', 'question_id']])\n",
    "y_test = test['answer']"
   ]
  },
  {
   "cell_type": "code",
   "execution_count": 26,
   "id": "1512e7bf",
   "metadata": {
    "scrolled": true
   },
   "outputs": [
    {
     "data": {
      "text/plain": [
       "0.5484275824671562"
      ]
     },
     "execution_count": 26,
     "metadata": {},
     "output_type": "execute_result"
    }
   ],
   "source": [
    "model.score(X_test, y_test)"
   ]
  },
  {
   "cell_type": "code",
   "execution_count": 29,
   "id": "bc03a504",
   "metadata": {},
   "outputs": [
    {
     "data": {
      "text/plain": [
       "array([[ 2.27681378,  1.66225025,  0.13789691, ..., -0.29170918,\n",
       "        -0.42771123, -0.01227714]])"
      ]
     },
     "execution_count": 29,
     "metadata": {},
     "output_type": "execute_result"
    }
   ],
   "source": [
    "model.coef_"
   ]
  },
  {
   "cell_type": "code",
   "execution_count": null,
   "id": "a9e5b175",
   "metadata": {},
   "outputs": [],
   "source": []
  }
 ],
 "metadata": {
  "kernelspec": {
   "display_name": "Python 3 (ipykernel)",
   "language": "python",
   "name": "python3"
  },
  "language_info": {
   "codemirror_mode": {
    "name": "ipython",
    "version": 3
   },
   "file_extension": ".py",
   "mimetype": "text/x-python",
   "name": "python",
   "nbconvert_exporter": "python",
   "pygments_lexer": "ipython3",
   "version": "3.9.12"
  }
 },
 "nbformat": 4,
 "nbformat_minor": 5
}
